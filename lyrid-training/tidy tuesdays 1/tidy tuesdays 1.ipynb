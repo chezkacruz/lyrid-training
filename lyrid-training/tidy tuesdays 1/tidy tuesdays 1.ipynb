{
 "cells": [
  {
   "cell_type": "markdown",
   "metadata": {},
   "source": [
    "<h1>Tidy Tuesdays 1: Novel Corona Virus 2019 Dataset</h1>\n",
    "notebook by: Franchezka Cruz"
   ]
  },
  {
   "cell_type": "code",
   "execution_count": 204,
   "metadata": {},
   "outputs": [],
   "source": [
    "import  pandas as pd\n",
    "import  numpy as np\n",
    "\n",
    "# Data visualization\n",
    "import  seaborn as sns\n",
    "import  matplotlib.pyplot as plt\n",
    "%matplotlib inline"
   ]
  },
  {
   "cell_type": "markdown",
   "metadata": {},
   "source": [
    "<h2>Data preparation</h2>"
   ]
  },
  {
   "cell_type": "markdown",
   "metadata": {},
   "source": [
    "Let's take a look at the data:"
   ]
  },
  {
   "cell_type": "code",
   "execution_count": 205,
   "metadata": {},
   "outputs": [
    {
     "data": {
      "text/html": [
       "<div>\n",
       "<style scoped>\n",
       "    .dataframe tbody tr th:only-of-type {\n",
       "        vertical-align: middle;\n",
       "    }\n",
       "\n",
       "    .dataframe tbody tr th {\n",
       "        vertical-align: top;\n",
       "    }\n",
       "\n",
       "    .dataframe thead th {\n",
       "        text-align: right;\n",
       "    }\n",
       "</style>\n",
       "<table border=\"1\" class=\"dataframe\">\n",
       "  <thead>\n",
       "    <tr style=\"text-align: right;\">\n",
       "      <th></th>\n",
       "      <th>SNo</th>\n",
       "      <th>ObservationDate</th>\n",
       "      <th>Province/State</th>\n",
       "      <th>Country/Region</th>\n",
       "      <th>Last Update</th>\n",
       "      <th>Confirmed</th>\n",
       "      <th>Deaths</th>\n",
       "      <th>Recovered</th>\n",
       "    </tr>\n",
       "  </thead>\n",
       "  <tbody>\n",
       "    <tr>\n",
       "      <th>0</th>\n",
       "      <td>1</td>\n",
       "      <td>01/22/2020</td>\n",
       "      <td>Anhui</td>\n",
       "      <td>Mainland China</td>\n",
       "      <td>1/22/2020 17:00</td>\n",
       "      <td>1.0</td>\n",
       "      <td>0.0</td>\n",
       "      <td>0.0</td>\n",
       "    </tr>\n",
       "    <tr>\n",
       "      <th>1</th>\n",
       "      <td>2</td>\n",
       "      <td>01/22/2020</td>\n",
       "      <td>Beijing</td>\n",
       "      <td>Mainland China</td>\n",
       "      <td>1/22/2020 17:00</td>\n",
       "      <td>14.0</td>\n",
       "      <td>0.0</td>\n",
       "      <td>0.0</td>\n",
       "    </tr>\n",
       "    <tr>\n",
       "      <th>2</th>\n",
       "      <td>3</td>\n",
       "      <td>01/22/2020</td>\n",
       "      <td>Chongqing</td>\n",
       "      <td>Mainland China</td>\n",
       "      <td>1/22/2020 17:00</td>\n",
       "      <td>6.0</td>\n",
       "      <td>0.0</td>\n",
       "      <td>0.0</td>\n",
       "    </tr>\n",
       "    <tr>\n",
       "      <th>3</th>\n",
       "      <td>4</td>\n",
       "      <td>01/22/2020</td>\n",
       "      <td>Fujian</td>\n",
       "      <td>Mainland China</td>\n",
       "      <td>1/22/2020 17:00</td>\n",
       "      <td>1.0</td>\n",
       "      <td>0.0</td>\n",
       "      <td>0.0</td>\n",
       "    </tr>\n",
       "    <tr>\n",
       "      <th>4</th>\n",
       "      <td>5</td>\n",
       "      <td>01/22/2020</td>\n",
       "      <td>Gansu</td>\n",
       "      <td>Mainland China</td>\n",
       "      <td>1/22/2020 17:00</td>\n",
       "      <td>0.0</td>\n",
       "      <td>0.0</td>\n",
       "      <td>0.0</td>\n",
       "    </tr>\n",
       "    <tr>\n",
       "      <th>5</th>\n",
       "      <td>6</td>\n",
       "      <td>01/22/2020</td>\n",
       "      <td>Guangdong</td>\n",
       "      <td>Mainland China</td>\n",
       "      <td>1/22/2020 17:00</td>\n",
       "      <td>26.0</td>\n",
       "      <td>0.0</td>\n",
       "      <td>0.0</td>\n",
       "    </tr>\n",
       "    <tr>\n",
       "      <th>6</th>\n",
       "      <td>7</td>\n",
       "      <td>01/22/2020</td>\n",
       "      <td>Guangxi</td>\n",
       "      <td>Mainland China</td>\n",
       "      <td>1/22/2020 17:00</td>\n",
       "      <td>2.0</td>\n",
       "      <td>0.0</td>\n",
       "      <td>0.0</td>\n",
       "    </tr>\n",
       "    <tr>\n",
       "      <th>7</th>\n",
       "      <td>8</td>\n",
       "      <td>01/22/2020</td>\n",
       "      <td>Guizhou</td>\n",
       "      <td>Mainland China</td>\n",
       "      <td>1/22/2020 17:00</td>\n",
       "      <td>1.0</td>\n",
       "      <td>0.0</td>\n",
       "      <td>0.0</td>\n",
       "    </tr>\n",
       "    <tr>\n",
       "      <th>8</th>\n",
       "      <td>9</td>\n",
       "      <td>01/22/2020</td>\n",
       "      <td>Hainan</td>\n",
       "      <td>Mainland China</td>\n",
       "      <td>1/22/2020 17:00</td>\n",
       "      <td>4.0</td>\n",
       "      <td>0.0</td>\n",
       "      <td>0.0</td>\n",
       "    </tr>\n",
       "    <tr>\n",
       "      <th>9</th>\n",
       "      <td>10</td>\n",
       "      <td>01/22/2020</td>\n",
       "      <td>Hebei</td>\n",
       "      <td>Mainland China</td>\n",
       "      <td>1/22/2020 17:00</td>\n",
       "      <td>1.0</td>\n",
       "      <td>0.0</td>\n",
       "      <td>0.0</td>\n",
       "    </tr>\n",
       "  </tbody>\n",
       "</table>\n",
       "</div>"
      ],
      "text/plain": [
       "   SNo ObservationDate Province/State  Country/Region      Last Update  \\\n",
       "0    1      01/22/2020          Anhui  Mainland China  1/22/2020 17:00   \n",
       "1    2      01/22/2020        Beijing  Mainland China  1/22/2020 17:00   \n",
       "2    3      01/22/2020      Chongqing  Mainland China  1/22/2020 17:00   \n",
       "3    4      01/22/2020         Fujian  Mainland China  1/22/2020 17:00   \n",
       "4    5      01/22/2020          Gansu  Mainland China  1/22/2020 17:00   \n",
       "5    6      01/22/2020      Guangdong  Mainland China  1/22/2020 17:00   \n",
       "6    7      01/22/2020        Guangxi  Mainland China  1/22/2020 17:00   \n",
       "7    8      01/22/2020        Guizhou  Mainland China  1/22/2020 17:00   \n",
       "8    9      01/22/2020         Hainan  Mainland China  1/22/2020 17:00   \n",
       "9   10      01/22/2020          Hebei  Mainland China  1/22/2020 17:00   \n",
       "\n",
       "   Confirmed  Deaths  Recovered  \n",
       "0        1.0     0.0        0.0  \n",
       "1       14.0     0.0        0.0  \n",
       "2        6.0     0.0        0.0  \n",
       "3        1.0     0.0        0.0  \n",
       "4        0.0     0.0        0.0  \n",
       "5       26.0     0.0        0.0  \n",
       "6        2.0     0.0        0.0  \n",
       "7        1.0     0.0        0.0  \n",
       "8        4.0     0.0        0.0  \n",
       "9        1.0     0.0        0.0  "
      ]
     },
     "execution_count": 205,
     "metadata": {},
     "output_type": "execute_result"
    }
   ],
   "source": [
    "data = pd.read_csv('covid_19_data.csv')\n",
    "\n",
    "data.head(10)"
   ]
  },
  {
   "cell_type": "markdown",
   "metadata": {},
   "source": [
    "Here is the count of missing values for each column in the dataset: "
   ]
  },
  {
   "cell_type": "code",
   "execution_count": 206,
   "metadata": {},
   "outputs": [
    {
     "data": {
      "text/plain": [
       "SNo                    0\n",
       "ObservationDate        0\n",
       "Province/State     62045\n",
       "Country/Region         0\n",
       "Last Update            0\n",
       "Confirmed              0\n",
       "Deaths                 0\n",
       "Recovered              0\n",
       "dtype: int64"
      ]
     },
     "execution_count": 206,
     "metadata": {},
     "output_type": "execute_result"
    }
   ],
   "source": [
    "data.isnull().sum()"
   ]
  },
  {
   "cell_type": "markdown",
   "metadata": {},
   "source": [
    "Since only the Province/State column has empty data, let's just ignore this column by deleting it."
   ]
  },
  {
   "cell_type": "code",
   "execution_count": 207,
   "metadata": {},
   "outputs": [],
   "source": [
    "data= data.drop(['Province/State'], axis=1)"
   ]
  },
  {
   "cell_type": "code",
   "execution_count": 208,
   "metadata": {},
   "outputs": [
    {
     "data": {
      "text/plain": [
       "SNo                0\n",
       "ObservationDate    0\n",
       "Country/Region     0\n",
       "Last Update        0\n",
       "Confirmed          0\n",
       "Deaths             0\n",
       "Recovered          0\n",
       "dtype: int64"
      ]
     },
     "execution_count": 208,
     "metadata": {},
     "output_type": "execute_result"
    }
   ],
   "source": [
    "data.isnull().sum()"
   ]
  },
  {
   "cell_type": "markdown",
   "metadata": {},
   "source": [
    "<br>Let's check if there are duplicate records"
   ]
  },
  {
   "cell_type": "code",
   "execution_count": 209,
   "metadata": {},
   "outputs": [
    {
     "data": {
      "text/html": [
       "<div>\n",
       "<style scoped>\n",
       "    .dataframe tbody tr th:only-of-type {\n",
       "        vertical-align: middle;\n",
       "    }\n",
       "\n",
       "    .dataframe tbody tr th {\n",
       "        vertical-align: top;\n",
       "    }\n",
       "\n",
       "    .dataframe thead th {\n",
       "        text-align: right;\n",
       "    }\n",
       "</style>\n",
       "<table border=\"1\" class=\"dataframe\">\n",
       "  <thead>\n",
       "    <tr style=\"text-align: right;\">\n",
       "      <th></th>\n",
       "      <th>SNo</th>\n",
       "      <th>ObservationDate</th>\n",
       "      <th>Country/Region</th>\n",
       "      <th>Last Update</th>\n",
       "      <th>Confirmed</th>\n",
       "      <th>Deaths</th>\n",
       "      <th>Recovered</th>\n",
       "    </tr>\n",
       "  </thead>\n",
       "  <tbody>\n",
       "  </tbody>\n",
       "</table>\n",
       "</div>"
      ],
      "text/plain": [
       "Empty DataFrame\n",
       "Columns: [SNo, ObservationDate, Country/Region, Last Update, Confirmed, Deaths, Recovered]\n",
       "Index: []"
      ]
     },
     "execution_count": 209,
     "metadata": {},
     "output_type": "execute_result"
    }
   ],
   "source": [
    "duplicate = data[data.duplicated()] #overall \n",
    "duplicate"
   ]
  },
  {
   "cell_type": "code",
   "execution_count": 210,
   "metadata": {},
   "outputs": [
    {
     "data": {
      "text/html": [
       "<div>\n",
       "<style scoped>\n",
       "    .dataframe tbody tr th:only-of-type {\n",
       "        vertical-align: middle;\n",
       "    }\n",
       "\n",
       "    .dataframe tbody tr th {\n",
       "        vertical-align: top;\n",
       "    }\n",
       "\n",
       "    .dataframe thead th {\n",
       "        text-align: right;\n",
       "    }\n",
       "</style>\n",
       "<table border=\"1\" class=\"dataframe\">\n",
       "  <thead>\n",
       "    <tr style=\"text-align: right;\">\n",
       "      <th></th>\n",
       "      <th>SNo</th>\n",
       "      <th>ObservationDate</th>\n",
       "      <th>Country/Region</th>\n",
       "      <th>Last Update</th>\n",
       "      <th>Confirmed</th>\n",
       "      <th>Deaths</th>\n",
       "      <th>Recovered</th>\n",
       "    </tr>\n",
       "  </thead>\n",
       "  <tbody>\n",
       "  </tbody>\n",
       "</table>\n",
       "</div>"
      ],
      "text/plain": [
       "Empty DataFrame\n",
       "Columns: [SNo, ObservationDate, Country/Region, Last Update, Confirmed, Deaths, Recovered]\n",
       "Index: []"
      ]
     },
     "execution_count": 210,
     "metadata": {},
     "output_type": "execute_result"
    }
   ],
   "source": [
    "duplicate = data[data.duplicated('SNo')] #based on serial number\n",
    "duplicate"
   ]
  },
  {
   "cell_type": "markdown",
   "metadata": {},
   "source": [
    "As we can see, no record has been duplicated!\n",
    "\n",
    "Now that we are done with the preparation of data, we can now proceed to data analysis."
   ]
  },
  {
   "cell_type": "markdown",
   "metadata": {},
   "source": [
    "Let us now remove unnecessary symbols from the Country/Region to ensure that all informtion only contains strings."
   ]
  },
  {
   "cell_type": "code",
   "execution_count": 211,
   "metadata": {},
   "outputs": [],
   "source": [
    "data['Country/Region'] = data['Country/Region'].map(lambda x: x.lstrip('+-\\(\\)\\'\\'').rstrip('aAbBcC'))"
   ]
  },
  {
   "cell_type": "markdown",
   "metadata": {},
   "source": [
    "<h2>Data Analysis</h2>"
   ]
  },
  {
   "cell_type": "markdown",
   "metadata": {},
   "source": [
    "<h3>Confirmed Cases Overtime</h3>"
   ]
  },
  {
   "cell_type": "markdown",
   "metadata": {},
   "source": [
    "Let's take a look at the total number of countries affected by COVID-19\n"
   ]
  },
  {
   "cell_type": "code",
   "execution_count": 212,
   "metadata": {},
   "outputs": [
    {
     "name": "stdout",
     "output_type": "stream",
     "text": [
      "The total number of countries affected by the virus is: 227 \n",
      "\n",
      "['Mainland Chin' 'Hong Kong' 'Macau' 'Taiwan' 'US' 'Japan' 'Thailand'\n",
      " 'South Kore' 'Singapore' 'Philippines' 'Malaysi' 'Vietnam' 'Australi'\n",
      " 'Mexico' 'Brazil' 'Colombi' 'France' 'Nepal' 'Canad' 'Cambodi' 'Sri Lank'\n",
      " 'Ivory Coast' 'Germany' 'Finland' 'United Arab Emirates' 'Indi' 'Italy'\n",
      " 'UK' 'Russi' 'Sweden' 'Spain' 'Belgium' 'Others' 'Egypt' 'Iran' 'Israel'\n",
      " 'Lebanon' 'Iraq' 'Oman' 'Afghanistan' 'Bahrain' 'Kuwait' 'Austri'\n",
      " 'Algeri' 'Croati' 'Switzerland' 'Pakistan' 'Georgi' 'Greece'\n",
      " 'North Macedoni' 'Norway' 'Romani' 'Denmark' 'Estoni' 'Netherlands'\n",
      " 'San Marino' ' Azerbaijan' 'Belarus' 'Iceland' 'Lithuani' 'New Zealand'\n",
      " 'Nigeri' 'North Ireland' 'Ireland' 'Luxembourg' 'Monaco' 'Qatar'\n",
      " 'Ecuador' 'Azerbaijan' 'Czech Republi' 'Armeni' 'Dominican Republi'\n",
      " 'Indonesi' 'Portugal' 'Andorr' 'Latvi' 'Morocco' 'Saudi Arabi' 'Senegal'\n",
      " 'Argentin' 'Chile' 'Jordan' 'Ukraine' 'Saint Barthelemy' 'Hungary'\n",
      " 'Faroe Islands' 'Gibraltar' 'Liechtenstein' 'Poland' 'Tunisi' 'Palestine'\n",
      " 'Bosnia and Herzegovin' 'Sloveni' 'South Afri' 'Bhutan' 'Cameroon'\n",
      " 'Costa Ri' 'Peru' 'Serbi' 'Slovaki' 'Togo' 'Vatican City' 'French Guian'\n",
      " 'Malt' 'Martinique' 'Republic of Ireland' 'Bulgari' 'Maldives'\n",
      " 'Bangladesh' 'Moldov' 'Paraguay' 'Albani' 'Cyprus' 'St. Martin' 'Brunei'\n",
      " 'occupied Palestinian territory' \"St. Martin',)\" 'Burkina Faso'\n",
      " 'Channel Islands' 'Holy See' 'Mongoli' 'Panam' 'Bolivi' 'Honduras'\n",
      " 'Congo (Kinshasa)' 'Jamai' 'Reunion' 'Turkey' 'Cu' 'Guyan' 'Kazakhstan'\n",
      " 'Cayman Islands' 'Guadeloupe' 'Ethiopi' 'Sudan' 'Guine'\n",
      " 'Antigua and Barbud' 'Aru' 'Keny' 'Uruguay' 'Ghan' 'Jersey' 'Namibi'\n",
      " 'Seychelles' 'Trinidad and Tobago' 'Venezuel' 'Curacao' 'Eswatini'\n",
      " 'Gabon' 'Guatemal' 'Guernsey' 'Mauritani' 'Rwand' 'Saint Luci'\n",
      " 'Saint Vincent and the Grenadines' 'Suriname' 'Kosovo'\n",
      " 'Central African Republi' 'Congo (Brazzaville)' 'Equatorial Guine'\n",
      " 'Uzbekistan' 'Guam' 'Puerto Rico' 'Benin' 'Greenland' 'Liberi' 'Mayotte'\n",
      " 'Republic of the Congo' 'Somali' 'Tanzani' 'The Bahamas' 'Barbados'\n",
      " 'Montenegro' 'The Gambi' 'Kyrgyzstan' 'Mauritius' 'Zambi' 'Djibouti'\n",
      " 'Gambia, The' 'Bahamas, The' 'Chad' 'El Salvador' 'Fiji' 'Nicaragu'\n",
      " 'Madagascar' 'Haiti' 'Angol' 'Cabo Verde' 'Niger' 'Papua New Guine'\n",
      " 'Zimbabwe' 'Cape Verde' 'East Timor' 'Eritre' 'Ugand' 'Bahamas' 'Domini'\n",
      " 'Gambi' 'Grenad' 'Mozambique' 'Samo' 'Syri' 'Timor-Leste' 'Belize' 'Laos'\n",
      " 'Liby' 'Diamond Princess' 'Guinea-Bissau' 'Mali' 'Saint Kitts and Nevis'\n",
      " 'West Bank and Gaz' 'Burm' 'MS Zaandam' 'Botswan' 'Burundi'\n",
      " 'Sierra Leone' 'Malawi' 'South Sudan' 'Sao Tome and Principe' 'Yemen'\n",
      " 'Comoros' 'Tajikistan' 'Lesotho' 'Solomon Islands' 'Marshall Islands'\n",
      " 'Vanuatu' 'Micronesi']\n"
     ]
    }
   ],
   "source": [
    "countries = data['Country/Region'].unique()\n",
    "print('The total number of countries affected by the virus is: %s \\n' % len(countries))\n",
    "\n",
    "print(countries)"
   ]
  },
  {
   "cell_type": "markdown",
   "metadata": {},
   "source": [
    "Wow that's a lot! Why don't we further group the cases around the world so we can analyze them more?"
   ]
  },
  {
   "cell_type": "code",
   "execution_count": 213,
   "metadata": {},
   "outputs": [],
   "source": [
    "# Convert ObservationDate to datetime object\n",
    "data['ObservationDate'] = pd.to_datetime(data['ObservationDate'], format='%m/%d/%Y', utc=True);"
   ]
  },
  {
   "cell_type": "code",
   "execution_count": 214,
   "metadata": {},
   "outputs": [],
   "source": [
    "#group by date\n",
    "groupdate=data.groupby([\"ObservationDate\"]).agg({\"Confirmed\":'sum',\"Recovered\":'sum',\"Deaths\":'sum'})"
   ]
  },
  {
   "cell_type": "markdown",
   "metadata": {},
   "source": [
    "<h4>Cases Around the World: A Summary</h4>"
   ]
  },
  {
   "cell_type": "code",
   "execution_count": 215,
   "metadata": {},
   "outputs": [
    {
     "data": {
      "image/png": "[encoded data removed]",
      "text/plain": [
       "<Figure size 432x288 with 1 Axes>"
      ]
     },
     "metadata": {
      "needs_background": "light"
     },
     "output_type": "display_data"
    }
   ],
   "source": [
    "fig = sns.lineplot(data=groupdate)"
   ]
  },
  {
   "cell_type": "markdown",
   "metadata": {},
   "source": [
    "From the graph above, we could see that the number of recovered cases is more than the number of death cases overtime. We will be taking a closer look at these graphs one by one in the next sections."
   ]
  },
  {
   "cell_type": "markdown",
   "metadata": {},
   "source": [
    "<h4>Total number of Confirmed Cases Around the World</h4>"
   ]
  },
  {
   "cell_type": "code",
   "execution_count": 292,
   "metadata": {},
   "outputs": [
    {
     "name": "stdout",
     "output_type": "stream",
     "text": [
      "Total number of Confirmed cases around the world: 113784735.0\n"
     ]
    },
    {
     "data": {
      "text/plain": [
       "Text(0.5, 1.0, 'Confirmed Cases Around the World')"
      ]
     },
     "execution_count": 292,
     "metadata": {},
     "output_type": "execute_result"
    },
    {
     "data": {
      "image/png": "[encoded data removed]",
      "text/plain": [
       "<Figure size 720x576 with 1 Axes>"
      ]
     },
     "metadata": {},
     "output_type": "display_data"
    }
   ],
   "source": [
    "# get total number of confirmed cases\n",
    "print('Total number of Confirmed cases around the world: %s' % groupdate[\"Confirmed\"].iloc[-1])\n",
    "\n",
    "#graph the data\n",
    "fig = sns.lineplot(data=groupdate[\"Confirmed\"], x=groupdate.index, y=groupdate[\"Confirmed\"])\n",
    "sns.set(rc={'figure.figsize':(10,8)})\n",
    "fig.set_ylabel(\"Number of Confirmed Cases\")\n",
    "fig.set_xlabel(\"Date\")\n",
    "fig.set_ylim(ymin=0)\n",
    "fig.set_title(\"Confirmed Cases Around the World\")"
   ]
  },
  {
   "cell_type": "markdown",
   "metadata": {},
   "source": [
    "As we can see on the graph, the rate of change (slope) of the graph is still high despite the virus being around for a year already. This could mean that there are still lots of countries that cannot control the spread of the virus."
   ]
  },
  {
   "cell_type": "markdown",
   "metadata": {},
   "source": [
    "<h4>Total number of Active Cases Around the World</h4>"
   ]
  },
  {
   "cell_type": "code",
   "execution_count": 217,
   "metadata": {},
   "outputs": [
    {
     "name": "stdout",
     "output_type": "stream",
     "text": [
      "Total number of Active cases around the world: 47016049.0\n"
     ]
    },
    {
     "data": {
      "text/plain": [
       "Text(0.5, 1.0, 'Active Cases Around the World')"
      ]
     },
     "execution_count": 217,
     "metadata": {},
     "output_type": "execute_result"
    },
    {
     "data": {
      "image/png": "[encoded data removed]",
      "text/plain": [
       "<Figure size 720x576 with 1 Axes>"
      ]
     },
     "metadata": {},
     "output_type": "display_data"
    }
   ],
   "source": [
    "# get total number of active cases\n",
    "groupdate[\"Active\"] = groupdate[\"Confirmed\"]-groupdate[\"Recovered\"]-groupdate[\"Deaths\"]\n",
    "print('Total number of Active cases around the world: %s' % groupdate[\"Active\"].iloc[-1])\n",
    "\n",
    "#graph the data\n",
    "fig = sns.lineplot(data=groupdate[\"Active\"], x=groupdate.index, y=groupdate[\"Active\"])\n",
    "sns.set(rc={'figure.figsize':(10,8)})\n",
    "fig.set_ylabel(\"Active\")\n",
    "fig.set_xlabel(\"Date\")\n",
    "fig.set_ylim(ymin=0)\n",
    "fig.set_title(\"Active Cases Around the World\")"
   ]
  },
  {
   "cell_type": "markdown",
   "metadata": {},
   "source": [
    "From the graph above, we could see that the highest rate of change was from November 2020 to January 2021. One of the factors that could have affected the rate of change is the holiday season."
   ]
  },
  {
   "cell_type": "markdown",
   "metadata": {},
   "source": [
    "<h4>Total number of Recovered Cases Around the World</h4>"
   ]
  },
  {
   "cell_type": "code",
   "execution_count": 293,
   "metadata": {},
   "outputs": [
    {
     "name": "stdout",
     "output_type": "stream",
     "text": [
      "Total number of Recovered cases around the world: 64243285.0\n"
     ]
    },
    {
     "data": {
      "text/plain": [
       "Text(0.5, 1.0, 'Recovered Cases Around the World')"
      ]
     },
     "execution_count": 293,
     "metadata": {},
     "output_type": "execute_result"
    },
    {
     "data": {
      "image/png": "[encoded data removed]",
      "text/plain": [
       "<Figure size 720x576 with 1 Axes>"
      ]
     },
     "metadata": {},
     "output_type": "display_data"
    }
   ],
   "source": [
    "# get total number of recovered cases\n",
    "print('Total number of Recovered cases around the world: %s' % groupdate[\"Recovered\"].iloc[-1])\n",
    "\n",
    "#graph the data\n",
    "fig = sns.lineplot(data=groupdate[\"Recovered\"], x=groupdate.index, y=groupdate[\"Recovered\"])\n",
    "sns.set(rc={'figure.figsize':(10,8)})\n",
    "fig.set_ylabel(\"Number of Recovered Cases\")\n",
    "fig.set_xlabel(\"Date\")\n",
    "fig.set_ylim(ymin=0)\n",
    "fig.set_title(\"Recovered Cases Around the World\")"
   ]
  },
  {
   "cell_type": "markdown",
   "metadata": {},
   "source": [
    "The number of recovered cases has been steadily increasing except between December 2020 and January 2021, wherein the rate of changed dropped for a while."
   ]
  },
  {
   "cell_type": "markdown",
   "metadata": {},
   "source": [
    "<h4>Total number of Deaths Around the World</h4>"
   ]
  },
  {
   "cell_type": "code",
   "execution_count": 294,
   "metadata": {},
   "outputs": [
    {
     "name": "stdout",
     "output_type": "stream",
     "text": [
      "Total number of Death cases around the world: 2525401.0\n"
     ]
    },
    {
     "data": {
      "text/plain": [
       "Text(0.5, 1.0, 'Deaths Around the World')"
      ]
     },
     "execution_count": 294,
     "metadata": {},
     "output_type": "execute_result"
    },
    {
     "data": {
      "image/png": "[encoded data removed]",
      "text/plain": [
       "<Figure size 720x576 with 1 Axes>"
      ]
     },
     "metadata": {},
     "output_type": "display_data"
    }
   ],
   "source": [
    "# get total number of deaths\n",
    "print('Total number of Death cases around the world: %s' % groupdate[\"Deaths\"].iloc[-1])\n",
    "\n",
    "#graph the data\n",
    "fig = sns.lineplot(data=groupdate[\"Deaths\"], x=groupdate.index, y=groupdate[\"Deaths\"])\n",
    "sns.set(rc={'figure.figsize':(10,8)})\n",
    "fig.set_ylabel(\"Number of Deaths\")\n",
    "fig.set_xlabel(\"Date\")\n",
    "fig.set_ylim(ymin=0)\n",
    "fig.set_title(\"Deaths Around the World\")"
   ]
  },
  {
   "cell_type": "markdown",
   "metadata": {},
   "source": [
    "The number of deaths around the world due to the virus is steadily increasing."
   ]
  },
  {
   "cell_type": "markdown",
   "metadata": {},
   "source": [
    "<h2>Data Visualization</h2>"
   ]
  },
  {
   "cell_type": "markdown",
   "metadata": {},
   "source": [
    "<h3>Total Number of Cases for Each Country </h3>"
   ]
  },
  {
   "cell_type": "code",
   "execution_count": 287,
   "metadata": {},
   "outputs": [
    {
     "data": {
      "text/html": [
       "<div>\n",
       "<style scoped>\n",
       "    .dataframe tbody tr th:only-of-type {\n",
       "        vertical-align: middle;\n",
       "    }\n",
       "\n",
       "    .dataframe tbody tr th {\n",
       "        vertical-align: top;\n",
       "    }\n",
       "\n",
       "    .dataframe thead th {\n",
       "        text-align: right;\n",
       "    }\n",
       "</style>\n",
       "<table border=\"1\" class=\"dataframe\">\n",
       "  <thead>\n",
       "    <tr style=\"text-align: right;\">\n",
       "      <th></th>\n",
       "      <th>Country/Region</th>\n",
       "      <th>ObservationDate</th>\n",
       "      <th>Confirmed</th>\n",
       "      <th>Recovered</th>\n",
       "      <th>Deaths</th>\n",
       "      <th>DeathPercent</th>\n",
       "    </tr>\n",
       "  </thead>\n",
       "  <tbody>\n",
       "    <tr>\n",
       "      <th>0</th>\n",
       "      <td>Azerbaijan</td>\n",
       "      <td>2020-02-28 00:00:00+00:00</td>\n",
       "      <td>1.0</td>\n",
       "      <td>0.0</td>\n",
       "      <td>0.0</td>\n",
       "      <td>0.000000</td>\n",
       "    </tr>\n",
       "    <tr>\n",
       "      <th>1</th>\n",
       "      <td>Afghanistan</td>\n",
       "      <td>2021-02-27 00:00:00+00:00</td>\n",
       "      <td>55707.0</td>\n",
       "      <td>49288.0</td>\n",
       "      <td>2443.0</td>\n",
       "      <td>4.385445</td>\n",
       "    </tr>\n",
       "    <tr>\n",
       "      <th>2</th>\n",
       "      <td>Albani</td>\n",
       "      <td>2021-02-27 00:00:00+00:00</td>\n",
       "      <td>106215.0</td>\n",
       "      <td>68969.0</td>\n",
       "      <td>1775.0</td>\n",
       "      <td>1.671139</td>\n",
       "    </tr>\n",
       "    <tr>\n",
       "      <th>3</th>\n",
       "      <td>Algeri</td>\n",
       "      <td>2021-02-27 00:00:00+00:00</td>\n",
       "      <td>112960.0</td>\n",
       "      <td>77976.0</td>\n",
       "      <td>2979.0</td>\n",
       "      <td>2.637217</td>\n",
       "    </tr>\n",
       "    <tr>\n",
       "      <th>4</th>\n",
       "      <td>Andorr</td>\n",
       "      <td>2021-02-27 00:00:00+00:00</td>\n",
       "      <td>10849.0</td>\n",
       "      <td>10429.0</td>\n",
       "      <td>110.0</td>\n",
       "      <td>1.013918</td>\n",
       "    </tr>\n",
       "    <tr>\n",
       "      <th>...</th>\n",
       "      <td>...</td>\n",
       "      <td>...</td>\n",
       "      <td>...</td>\n",
       "      <td>...</td>\n",
       "      <td>...</td>\n",
       "      <td>...</td>\n",
       "    </tr>\n",
       "    <tr>\n",
       "      <th>222</th>\n",
       "      <td>West Bank and Gaz</td>\n",
       "      <td>2021-02-27 00:00:00+00:00</td>\n",
       "      <td>181909.0</td>\n",
       "      <td>166119.0</td>\n",
       "      <td>2025.0</td>\n",
       "      <td>1.113194</td>\n",
       "    </tr>\n",
       "    <tr>\n",
       "      <th>223</th>\n",
       "      <td>Yemen</td>\n",
       "      <td>2021-02-27 00:00:00+00:00</td>\n",
       "      <td>2269.0</td>\n",
       "      <td>1435.0</td>\n",
       "      <td>631.0</td>\n",
       "      <td>27.809608</td>\n",
       "    </tr>\n",
       "    <tr>\n",
       "      <th>224</th>\n",
       "      <td>Zambi</td>\n",
       "      <td>2021-02-27 00:00:00+00:00</td>\n",
       "      <td>78202.0</td>\n",
       "      <td>73609.0</td>\n",
       "      <td>1081.0</td>\n",
       "      <td>1.382318</td>\n",
       "    </tr>\n",
       "    <tr>\n",
       "      <th>225</th>\n",
       "      <td>Zimbabwe</td>\n",
       "      <td>2021-02-27 00:00:00+00:00</td>\n",
       "      <td>36058.0</td>\n",
       "      <td>32590.0</td>\n",
       "      <td>1463.0</td>\n",
       "      <td>4.057352</td>\n",
       "    </tr>\n",
       "    <tr>\n",
       "      <th>226</th>\n",
       "      <td>occupied Palestinian territory</td>\n",
       "      <td>2020-03-17 00:00:00+00:00</td>\n",
       "      <td>0.0</td>\n",
       "      <td>0.0</td>\n",
       "      <td>0.0</td>\n",
       "      <td>NaN</td>\n",
       "    </tr>\n",
       "  </tbody>\n",
       "</table>\n",
       "<p>227 rows × 6 columns</p>\n",
       "</div>"
      ],
      "text/plain": [
       "                     Country/Region           ObservationDate  Confirmed  \\\n",
       "0                        Azerbaijan 2020-02-28 00:00:00+00:00        1.0   \n",
       "1                       Afghanistan 2021-02-27 00:00:00+00:00    55707.0   \n",
       "2                            Albani 2021-02-27 00:00:00+00:00   106215.0   \n",
       "3                            Algeri 2021-02-27 00:00:00+00:00   112960.0   \n",
       "4                            Andorr 2021-02-27 00:00:00+00:00    10849.0   \n",
       "..                              ...                       ...        ...   \n",
       "222               West Bank and Gaz 2021-02-27 00:00:00+00:00   181909.0   \n",
       "223                           Yemen 2021-02-27 00:00:00+00:00     2269.0   \n",
       "224                           Zambi 2021-02-27 00:00:00+00:00    78202.0   \n",
       "225                        Zimbabwe 2021-02-27 00:00:00+00:00    36058.0   \n",
       "226  occupied Palestinian territory 2020-03-17 00:00:00+00:00        0.0   \n",
       "\n",
       "     Recovered  Deaths  DeathPercent  \n",
       "0          0.0     0.0      0.000000  \n",
       "1      49288.0  2443.0      4.385445  \n",
       "2      68969.0  1775.0      1.671139  \n",
       "3      77976.0  2979.0      2.637217  \n",
       "4      10429.0   110.0      1.013918  \n",
       "..         ...     ...           ...  \n",
       "222   166119.0  2025.0      1.113194  \n",
       "223     1435.0   631.0     27.809608  \n",
       "224    73609.0  1081.0      1.382318  \n",
       "225    32590.0  1463.0      4.057352  \n",
       "226        0.0     0.0           NaN  \n",
       "\n",
       "[227 rows x 6 columns]"
      ]
     },
     "execution_count": 287,
     "metadata": {},
     "output_type": "execute_result"
    }
   ],
   "source": [
    "# group data per country\n",
    "country= data.groupby(['Country/Region','ObservationDate']).agg({\"Confirmed\":'sum',\"Recovered\":'sum',\"Deaths\":'sum'})\n",
    "\n",
    "#compute for the death percent in each country\n",
    "country[\"DeathPercent\"]=country[\"Deaths\"]/country[\"Confirmed\"]*100\n",
    "\n",
    "# sum of cases per country\n",
    "sum_country= country.groupby(['Country/Region']).tail(1)\n",
    "sum_country= sum_country.reset_index()\n",
    "sum_country"
   ]
  },
  {
   "cell_type": "markdown",
   "metadata": {},
   "source": [
    "Now that we have the total number of cases per country, we can now get the countries with the most number of cases."
   ]
  },
  {
   "cell_type": "code",
   "execution_count": 280,
   "metadata": {},
   "outputs": [
    {
     "data": {
      "text/html": [
       "<div>\n",
       "<style scoped>\n",
       "    .dataframe tbody tr th:only-of-type {\n",
       "        vertical-align: middle;\n",
       "    }\n",
       "\n",
       "    .dataframe tbody tr th {\n",
       "        vertical-align: top;\n",
       "    }\n",
       "\n",
       "    .dataframe thead th {\n",
       "        text-align: right;\n",
       "    }\n",
       "</style>\n",
       "<table border=\"1\" class=\"dataframe\">\n",
       "  <thead>\n",
       "    <tr style=\"text-align: right;\">\n",
       "      <th></th>\n",
       "      <th>Country/Region</th>\n",
       "      <th>ObservationDate</th>\n",
       "      <th>Confirmed</th>\n",
       "      <th>Recovered</th>\n",
       "      <th>Deaths</th>\n",
       "      <th>DeathPercent</th>\n",
       "    </tr>\n",
       "  </thead>\n",
       "  <tbody>\n",
       "    <tr>\n",
       "      <th>212</th>\n",
       "      <td>US</td>\n",
       "      <td>2021-02-27 00:00:00+00:00</td>\n",
       "      <td>28554465.0</td>\n",
       "      <td>0.0</td>\n",
       "      <td>511994.0</td>\n",
       "      <td>1.793044</td>\n",
       "    </tr>\n",
       "    <tr>\n",
       "      <th>94</th>\n",
       "      <td>Indi</td>\n",
       "      <td>2021-02-27 00:00:00+00:00</td>\n",
       "      <td>11096731.0</td>\n",
       "      <td>10775169.0</td>\n",
       "      <td>157051.0</td>\n",
       "      <td>1.415291</td>\n",
       "    </tr>\n",
       "    <tr>\n",
       "      <th>26</th>\n",
       "      <td>Brazil</td>\n",
       "      <td>2021-02-27 00:00:00+00:00</td>\n",
       "      <td>10517232.0</td>\n",
       "      <td>9371448.0</td>\n",
       "      <td>254221.0</td>\n",
       "      <td>2.417185</td>\n",
       "    </tr>\n",
       "    <tr>\n",
       "      <th>169</th>\n",
       "      <td>Russi</td>\n",
       "      <td>2021-02-27 00:00:00+00:00</td>\n",
       "      <td>4187166.0</td>\n",
       "      <td>3756808.0</td>\n",
       "      <td>84330.0</td>\n",
       "      <td>2.014011</td>\n",
       "    </tr>\n",
       "    <tr>\n",
       "      <th>211</th>\n",
       "      <td>UK</td>\n",
       "      <td>2021-02-27 00:00:00+00:00</td>\n",
       "      <td>4182772.0</td>\n",
       "      <td>11602.0</td>\n",
       "      <td>122939.0</td>\n",
       "      <td>2.939175</td>\n",
       "    </tr>\n",
       "    <tr>\n",
       "      <th>69</th>\n",
       "      <td>France</td>\n",
       "      <td>2021-02-27 00:00:00+00:00</td>\n",
       "      <td>3747263.0</td>\n",
       "      <td>261649.0</td>\n",
       "      <td>85741.0</td>\n",
       "      <td>2.288097</td>\n",
       "    </tr>\n",
       "    <tr>\n",
       "      <th>191</th>\n",
       "      <td>Spain</td>\n",
       "      <td>2021-02-27 00:00:00+00:00</td>\n",
       "      <td>3188553.0</td>\n",
       "      <td>150376.0</td>\n",
       "      <td>69142.0</td>\n",
       "      <td>2.168444</td>\n",
       "    </tr>\n",
       "    <tr>\n",
       "      <th>100</th>\n",
       "      <td>Italy</td>\n",
       "      <td>2021-02-27 00:00:00+00:00</td>\n",
       "      <td>2907825.0</td>\n",
       "      <td>2398352.0</td>\n",
       "      <td>97507.0</td>\n",
       "      <td>3.353262</td>\n",
       "    </tr>\n",
       "    <tr>\n",
       "      <th>210</th>\n",
       "      <td>Turkey</td>\n",
       "      <td>2021-02-27 00:00:00+00:00</td>\n",
       "      <td>2693164.0</td>\n",
       "      <td>2565723.0</td>\n",
       "      <td>28503.0</td>\n",
       "      <td>1.058346</td>\n",
       "    </tr>\n",
       "    <tr>\n",
       "      <th>75</th>\n",
       "      <td>Germany</td>\n",
       "      <td>2021-02-27 00:00:00+00:00</td>\n",
       "      <td>2444177.0</td>\n",
       "      <td>2252970.0</td>\n",
       "      <td>70092.0</td>\n",
       "      <td>2.867714</td>\n",
       "    </tr>\n",
       "    <tr>\n",
       "      <th>42</th>\n",
       "      <td>Colombi</td>\n",
       "      <td>2021-02-27 00:00:00+00:00</td>\n",
       "      <td>2248135.0</td>\n",
       "      <td>2145450.0</td>\n",
       "      <td>59660.0</td>\n",
       "      <td>2.653755</td>\n",
       "    </tr>\n",
       "    <tr>\n",
       "      <th>7</th>\n",
       "      <td>Argentin</td>\n",
       "      <td>2021-02-27 00:00:00+00:00</td>\n",
       "      <td>2104197.0</td>\n",
       "      <td>1899087.0</td>\n",
       "      <td>51946.0</td>\n",
       "      <td>2.468685</td>\n",
       "    </tr>\n",
       "    <tr>\n",
       "      <th>134</th>\n",
       "      <td>Mexico</td>\n",
       "      <td>2021-02-27 00:00:00+00:00</td>\n",
       "      <td>2084128.0</td>\n",
       "      <td>1630002.0</td>\n",
       "      <td>185257.0</td>\n",
       "      <td>8.888945</td>\n",
       "    </tr>\n",
       "    <tr>\n",
       "      <th>161</th>\n",
       "      <td>Poland</td>\n",
       "      <td>2021-02-27 00:00:00+00:00</td>\n",
       "      <td>1696885.0</td>\n",
       "      <td>1414461.0</td>\n",
       "      <td>43656.0</td>\n",
       "      <td>2.572714</td>\n",
       "    </tr>\n",
       "    <tr>\n",
       "      <th>96</th>\n",
       "      <td>Iran</td>\n",
       "      <td>2021-02-27 00:00:00+00:00</td>\n",
       "      <td>1623159.0</td>\n",
       "      <td>1386534.0</td>\n",
       "      <td>59980.0</td>\n",
       "      <td>3.695263</td>\n",
       "    </tr>\n",
       "  </tbody>\n",
       "</table>\n",
       "</div>"
      ],
      "text/plain": [
       "    Country/Region           ObservationDate   Confirmed   Recovered  \\\n",
       "212             US 2021-02-27 00:00:00+00:00  28554465.0         0.0   \n",
       "94            Indi 2021-02-27 00:00:00+00:00  11096731.0  10775169.0   \n",
       "26          Brazil 2021-02-27 00:00:00+00:00  10517232.0   9371448.0   \n",
       "169          Russi 2021-02-27 00:00:00+00:00   4187166.0   3756808.0   \n",
       "211             UK 2021-02-27 00:00:00+00:00   4182772.0     11602.0   \n",
       "69          France 2021-02-27 00:00:00+00:00   3747263.0    261649.0   \n",
       "191          Spain 2021-02-27 00:00:00+00:00   3188553.0    150376.0   \n",
       "100          Italy 2021-02-27 00:00:00+00:00   2907825.0   2398352.0   \n",
       "210         Turkey 2021-02-27 00:00:00+00:00   2693164.0   2565723.0   \n",
       "75         Germany 2021-02-27 00:00:00+00:00   2444177.0   2252970.0   \n",
       "42         Colombi 2021-02-27 00:00:00+00:00   2248135.0   2145450.0   \n",
       "7         Argentin 2021-02-27 00:00:00+00:00   2104197.0   1899087.0   \n",
       "134         Mexico 2021-02-27 00:00:00+00:00   2084128.0   1630002.0   \n",
       "161         Poland 2021-02-27 00:00:00+00:00   1696885.0   1414461.0   \n",
       "96            Iran 2021-02-27 00:00:00+00:00   1623159.0   1386534.0   \n",
       "\n",
       "       Deaths  DeathPercent  \n",
       "212  511994.0      1.793044  \n",
       "94   157051.0      1.415291  \n",
       "26   254221.0      2.417185  \n",
       "169   84330.0      2.014011  \n",
       "211  122939.0      2.939175  \n",
       "69    85741.0      2.288097  \n",
       "191   69142.0      2.168444  \n",
       "100   97507.0      3.353262  \n",
       "210   28503.0      1.058346  \n",
       "75    70092.0      2.867714  \n",
       "42    59660.0      2.653755  \n",
       "7     51946.0      2.468685  \n",
       "134  185257.0      8.888945  \n",
       "161   43656.0      2.572714  \n",
       "96    59980.0      3.695263  "
      ]
     },
     "execution_count": 280,
     "metadata": {},
     "output_type": "execute_result"
    }
   ],
   "source": [
    "#sort the number of cases in descending order\n",
    "sum_country=sum_country.sort_values(by=['Confirmed'],ascending=False)\n",
    "\n",
    "#get the top 15 countries\n",
    "top15 = sum_country.head(15)\n",
    "top15"
   ]
  },
  {
   "cell_type": "code",
   "execution_count": 300,
   "metadata": {},
   "outputs": [],
   "source": [
    "# fig,ax = plt.subplots()\n",
    "# ax.pie(top15['Confirmed'], labels=top15['Country/Region'], autopct='%1.1f%%',\n",
    "#         shadow=True, startangle=90)\n",
    "# plt.show()"
   ]
  },
  {
   "cell_type": "code",
   "execution_count": 304,
   "metadata": {},
   "outputs": [
    {
     "data": {
      "text/plain": [
       "Text(0.5, 0, 'Number of Confirmed Cases')"
      ]
     },
     "execution_count": 304,
     "metadata": {},
     "output_type": "execute_result"
    },
    {
     "data": {
      "image/png": "[encoded data removed]",
      "text/plain": [
       "<Figure size 720x576 with 1 Axes>"
      ]
     },
     "metadata": {},
     "output_type": "display_data"
    }
   ],
   "source": [
    "bar = sns.barplot(data=top15, x=\"Confirmed\", y=\"Country/Region\")\n",
    "bar.set_title(\"Top 15 Countries with Most Number of Confirmed Cases\")\n",
    "bar.set_xlabel(\"Number of Confirmed Cases\")"
   ]
  },
  {
   "cell_type": "markdown",
   "metadata": {},
   "source": [
    "From the graph above, we can see that majority of the confirmed cases are from the United States of America. Majority of this list also belong to countries with large population."
   ]
  },
  {
   "cell_type": "markdown",
   "metadata": {},
   "source": [
    "<h4>Death Rate for Each Country</h4>"
   ]
  },
  {
   "cell_type": "code",
   "execution_count": 289,
   "metadata": {},
   "outputs": [
    {
     "data": {
      "text/html": [
       "<div>\n",
       "<style scoped>\n",
       "    .dataframe tbody tr th:only-of-type {\n",
       "        vertical-align: middle;\n",
       "    }\n",
       "\n",
       "    .dataframe tbody tr th {\n",
       "        vertical-align: top;\n",
       "    }\n",
       "\n",
       "    .dataframe thead th {\n",
       "        text-align: right;\n",
       "    }\n",
       "</style>\n",
       "<table border=\"1\" class=\"dataframe\">\n",
       "  <thead>\n",
       "    <tr style=\"text-align: right;\">\n",
       "      <th></th>\n",
       "      <th>Country/Region</th>\n",
       "      <th>ObservationDate</th>\n",
       "      <th>Confirmed</th>\n",
       "      <th>Recovered</th>\n",
       "      <th>Deaths</th>\n",
       "      <th>DeathPercent</th>\n",
       "    </tr>\n",
       "  </thead>\n",
       "  <tbody>\n",
       "    <tr>\n",
       "      <th>223</th>\n",
       "      <td>Yemen</td>\n",
       "      <td>2021-02-27 00:00:00+00:00</td>\n",
       "      <td>2269.0</td>\n",
       "      <td>1435.0</td>\n",
       "      <td>631.0</td>\n",
       "      <td>27.809608</td>\n",
       "    </tr>\n",
       "    <tr>\n",
       "      <th>120</th>\n",
       "      <td>MS Zaandam</td>\n",
       "      <td>2021-02-27 00:00:00+00:00</td>\n",
       "      <td>9.0</td>\n",
       "      <td>7.0</td>\n",
       "      <td>2.0</td>\n",
       "      <td>22.222222</td>\n",
       "    </tr>\n",
       "    <tr>\n",
       "      <th>134</th>\n",
       "      <td>Mexico</td>\n",
       "      <td>2021-02-27 00:00:00+00:00</td>\n",
       "      <td>2084128.0</td>\n",
       "      <td>1630002.0</td>\n",
       "      <td>185257.0</td>\n",
       "      <td>8.888945</td>\n",
       "    </tr>\n",
       "    <tr>\n",
       "      <th>199</th>\n",
       "      <td>Syri</td>\n",
       "      <td>2021-02-27 00:00:00+00:00</td>\n",
       "      <td>15533.0</td>\n",
       "      <td>9717.0</td>\n",
       "      <td>1023.0</td>\n",
       "      <td>6.585978</td>\n",
       "    </tr>\n",
       "    <tr>\n",
       "      <th>195</th>\n",
       "      <td>Sudan</td>\n",
       "      <td>2021-02-27 00:00:00+00:00</td>\n",
       "      <td>30316.0</td>\n",
       "      <td>22887.0</td>\n",
       "      <td>1880.0</td>\n",
       "      <td>6.201346</td>\n",
       "    </tr>\n",
       "    <tr>\n",
       "      <th>59</th>\n",
       "      <td>Egypt</td>\n",
       "      <td>2021-02-27 00:00:00+00:00</td>\n",
       "      <td>181829.0</td>\n",
       "      <td>140460.0</td>\n",
       "      <td>10639.0</td>\n",
       "      <td>5.851102</td>\n",
       "    </tr>\n",
       "    <tr>\n",
       "      <th>58</th>\n",
       "      <td>Ecuador</td>\n",
       "      <td>2021-02-27 00:00:00+00:00</td>\n",
       "      <td>284347.0</td>\n",
       "      <td>238817.0</td>\n",
       "      <td>15779.0</td>\n",
       "      <td>5.549206</td>\n",
       "    </tr>\n",
       "    <tr>\n",
       "      <th>123</th>\n",
       "      <td>Mainland Chin</td>\n",
       "      <td>2021-02-27 00:00:00+00:00</td>\n",
       "      <td>89893.0</td>\n",
       "      <td>85039.0</td>\n",
       "      <td>4636.0</td>\n",
       "      <td>5.157242</td>\n",
       "    </tr>\n",
       "    <tr>\n",
       "      <th>23</th>\n",
       "      <td>Bolivi</td>\n",
       "      <td>2021-02-27 00:00:00+00:00</td>\n",
       "      <td>248547.0</td>\n",
       "      <td>192553.0</td>\n",
       "      <td>11628.0</td>\n",
       "      <td>4.678391</td>\n",
       "    </tr>\n",
       "    <tr>\n",
       "      <th>1</th>\n",
       "      <td>Afghanistan</td>\n",
       "      <td>2021-02-27 00:00:00+00:00</td>\n",
       "      <td>55707.0</td>\n",
       "      <td>49288.0</td>\n",
       "      <td>2443.0</td>\n",
       "      <td>4.385445</td>\n",
       "    </tr>\n",
       "    <tr>\n",
       "      <th>115</th>\n",
       "      <td>Liberi</td>\n",
       "      <td>2021-02-27 00:00:00+00:00</td>\n",
       "      <td>2010.0</td>\n",
       "      <td>1884.0</td>\n",
       "      <td>85.0</td>\n",
       "      <td>4.228856</td>\n",
       "    </tr>\n",
       "    <tr>\n",
       "      <th>127</th>\n",
       "      <td>Mali</td>\n",
       "      <td>2021-02-27 00:00:00+00:00</td>\n",
       "      <td>8365.0</td>\n",
       "      <td>6402.0</td>\n",
       "      <td>352.0</td>\n",
       "      <td>4.208010</td>\n",
       "    </tr>\n",
       "    <tr>\n",
       "      <th>202</th>\n",
       "      <td>Tanzani</td>\n",
       "      <td>2021-02-27 00:00:00+00:00</td>\n",
       "      <td>509.0</td>\n",
       "      <td>183.0</td>\n",
       "      <td>21.0</td>\n",
       "      <td>4.125737</td>\n",
       "    </tr>\n",
       "    <tr>\n",
       "      <th>28</th>\n",
       "      <td>Bulgari</td>\n",
       "      <td>2021-02-27 00:00:00+00:00</td>\n",
       "      <td>246706.0</td>\n",
       "      <td>205137.0</td>\n",
       "      <td>10167.0</td>\n",
       "      <td>4.121100</td>\n",
       "    </tr>\n",
       "    <tr>\n",
       "      <th>225</th>\n",
       "      <td>Zimbabwe</td>\n",
       "      <td>2021-02-27 00:00:00+00:00</td>\n",
       "      <td>36058.0</td>\n",
       "      <td>32590.0</td>\n",
       "      <td>1463.0</td>\n",
       "      <td>4.057352</td>\n",
       "    </tr>\n",
       "  </tbody>\n",
       "</table>\n",
       "</div>"
      ],
      "text/plain": [
       "    Country/Region           ObservationDate  Confirmed  Recovered    Deaths  \\\n",
       "223          Yemen 2021-02-27 00:00:00+00:00     2269.0     1435.0     631.0   \n",
       "120     MS Zaandam 2021-02-27 00:00:00+00:00        9.0        7.0       2.0   \n",
       "134         Mexico 2021-02-27 00:00:00+00:00  2084128.0  1630002.0  185257.0   \n",
       "199           Syri 2021-02-27 00:00:00+00:00    15533.0     9717.0    1023.0   \n",
       "195          Sudan 2021-02-27 00:00:00+00:00    30316.0    22887.0    1880.0   \n",
       "59           Egypt 2021-02-27 00:00:00+00:00   181829.0   140460.0   10639.0   \n",
       "58         Ecuador 2021-02-27 00:00:00+00:00   284347.0   238817.0   15779.0   \n",
       "123  Mainland Chin 2021-02-27 00:00:00+00:00    89893.0    85039.0    4636.0   \n",
       "23          Bolivi 2021-02-27 00:00:00+00:00   248547.0   192553.0   11628.0   \n",
       "1      Afghanistan 2021-02-27 00:00:00+00:00    55707.0    49288.0    2443.0   \n",
       "115         Liberi 2021-02-27 00:00:00+00:00     2010.0     1884.0      85.0   \n",
       "127           Mali 2021-02-27 00:00:00+00:00     8365.0     6402.0     352.0   \n",
       "202        Tanzani 2021-02-27 00:00:00+00:00      509.0      183.0      21.0   \n",
       "28         Bulgari 2021-02-27 00:00:00+00:00   246706.0   205137.0   10167.0   \n",
       "225       Zimbabwe 2021-02-27 00:00:00+00:00    36058.0    32590.0    1463.0   \n",
       "\n",
       "     DeathPercent  \n",
       "223     27.809608  \n",
       "120     22.222222  \n",
       "134      8.888945  \n",
       "199      6.585978  \n",
       "195      6.201346  \n",
       "59       5.851102  \n",
       "58       5.549206  \n",
       "123      5.157242  \n",
       "23       4.678391  \n",
       "1        4.385445  \n",
       "115      4.228856  \n",
       "127      4.208010  \n",
       "202      4.125737  \n",
       "28       4.121100  \n",
       "225      4.057352  "
      ]
     },
     "execution_count": 289,
     "metadata": {},
     "output_type": "execute_result"
    }
   ],
   "source": [
    "#sort the death rate in descending order\n",
    "death_country=sum_country.sort_values(by=['DeathPercent'],ascending=False)\n",
    "\n",
    "#get the top 15 countries\n",
    "top15_death = death_country.head(15)\n",
    "top15_death"
   ]
  },
  {
   "cell_type": "code",
   "execution_count": 308,
   "metadata": {},
   "outputs": [],
   "source": [
    "# fig1,ax1 = plt.subplots()\n",
    "# ax1.pie(top15_death['DeathPercent'], labels=top15_death['Country/Region'], autopct='%1.1f%%',\n",
    "#         shadow=True, startangle=90)\n",
    "# plt.show()"
   ]
  },
  {
   "cell_type": "code",
   "execution_count": 307,
   "metadata": {},
   "outputs": [
    {
     "data": {
      "text/plain": [
       "Text(0.5, 0, 'Death Percentage (in %)')"
      ]
     },
     "execution_count": 307,
     "metadata": {},
     "output_type": "execute_result"
    },
    {
     "data": {
      "image/png": "[encoded data removed]",
      "text/plain": [
       "<Figure size 720x576 with 1 Axes>"
      ]
     },
     "metadata": {},
     "output_type": "display_data"
    }
   ],
   "source": [
    "bar1 = sns.barplot(data=top15_death, x=\"DeathPercent\", y=\"Country/Region\")\n",
    "bar1.set_title(\"Top 15 Countries with Highest Death Rate\")\n",
    "bar1.set_xlabel(\"Death Percentage (in %)\")"
   ]
  },
  {
   "cell_type": "markdown",
   "metadata": {},
   "source": [
    "From here, we could see that none of the top 15 deaths due to the virus belongs to the top 15 countries with the most number of confirmed cases. We could also recognize that majority of this list/chart are third world countries. Belonging to this classification may have an effect with how each country effectively responds to global emergencies."
   ]
  },
  {
   "cell_type": "code",
   "execution_count": null,
   "metadata": {},
   "outputs": [],
   "source": []
  }
 ],
 "metadata": {
  "kernelspec": {
   "display_name": "Python 3",
   "language": "python",
   "name": "python3"
  },
  "language_info": {
   "codemirror_mode": {
    "name": "ipython",
    "version": 3
   },
   "file_extension": ".py",
   "mimetype": "text/x-python",
   "name": "python",
   "nbconvert_exporter": "python",
   "pygments_lexer": "ipython3",
   "version": "3.8.5"
  }
 },
 "nbformat": 4,
 "nbformat_minor": 4
}
