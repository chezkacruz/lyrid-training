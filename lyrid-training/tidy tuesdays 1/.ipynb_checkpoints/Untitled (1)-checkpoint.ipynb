{
 "cells": [
  {
   "cell_type": "code",
   "execution_count": 2,
   "metadata": {},
   "outputs": [],
   "source": [
    "import pandas as pd\n",
    "import  pandas as pd\n",
    "import  numpy as np\n",
    "\n",
    "# Data visualization\n",
    "import  seaborn as sns\n",
    "import  matplotlib.pyplot as plt\n",
    "%matplotlib inline\n",
    "\n",
    "sns.set_palette(\"Set1\", 8, .75)\n",
    "sns.set_style(\"darkgrid\")"
   ]
  },
  {
   "cell_type": "markdown",
   "metadata": {},
   "source": [
    "### Data preparation"
   ]
  },
  {
   "cell_type": "markdown",
   "metadata": {},
   "source": [
    "### combine mo na lang yung ibang parts dito sa original na gawa mo"
   ]
  },
  {
   "cell_type": "code",
   "execution_count": 3,
   "metadata": {},
   "outputs": [
    {
     "data": {
      "text/html": [
       "<div>\n",
       "<style scoped>\n",
       "    .dataframe tbody tr th:only-of-type {\n",
       "        vertical-align: middle;\n",
       "    }\n",
       "\n",
       "    .dataframe tbody tr th {\n",
       "        vertical-align: top;\n",
       "    }\n",
       "\n",
       "    .dataframe thead th {\n",
       "        text-align: right;\n",
       "    }\n",
       "</style>\n",
       "<table border=\"1\" class=\"dataframe\">\n",
       "  <thead>\n",
       "    <tr style=\"text-align: right;\">\n",
       "      <th></th>\n",
       "      <th>SNo</th>\n",
       "      <th>ObservationDate</th>\n",
       "      <th>Province/State</th>\n",
       "      <th>Country/Region</th>\n",
       "      <th>Last Update</th>\n",
       "      <th>Confirmed</th>\n",
       "      <th>Deaths</th>\n",
       "      <th>Recovered</th>\n",
       "    </tr>\n",
       "  </thead>\n",
       "  <tbody>\n",
       "    <tr>\n",
       "      <th>0</th>\n",
       "      <td>1</td>\n",
       "      <td>01/22/2020</td>\n",
       "      <td>Anhui</td>\n",
       "      <td>Mainland China</td>\n",
       "      <td>1/22/2020 17:00</td>\n",
       "      <td>1.0</td>\n",
       "      <td>0.0</td>\n",
       "      <td>0.0</td>\n",
       "    </tr>\n",
       "    <tr>\n",
       "      <th>1</th>\n",
       "      <td>2</td>\n",
       "      <td>01/22/2020</td>\n",
       "      <td>Beijing</td>\n",
       "      <td>Mainland China</td>\n",
       "      <td>1/22/2020 17:00</td>\n",
       "      <td>14.0</td>\n",
       "      <td>0.0</td>\n",
       "      <td>0.0</td>\n",
       "    </tr>\n",
       "    <tr>\n",
       "      <th>2</th>\n",
       "      <td>3</td>\n",
       "      <td>01/22/2020</td>\n",
       "      <td>Chongqing</td>\n",
       "      <td>Mainland China</td>\n",
       "      <td>1/22/2020 17:00</td>\n",
       "      <td>6.0</td>\n",
       "      <td>0.0</td>\n",
       "      <td>0.0</td>\n",
       "    </tr>\n",
       "    <tr>\n",
       "      <th>3</th>\n",
       "      <td>4</td>\n",
       "      <td>01/22/2020</td>\n",
       "      <td>Fujian</td>\n",
       "      <td>Mainland China</td>\n",
       "      <td>1/22/2020 17:00</td>\n",
       "      <td>1.0</td>\n",
       "      <td>0.0</td>\n",
       "      <td>0.0</td>\n",
       "    </tr>\n",
       "    <tr>\n",
       "      <th>4</th>\n",
       "      <td>5</td>\n",
       "      <td>01/22/2020</td>\n",
       "      <td>Gansu</td>\n",
       "      <td>Mainland China</td>\n",
       "      <td>1/22/2020 17:00</td>\n",
       "      <td>0.0</td>\n",
       "      <td>0.0</td>\n",
       "      <td>0.0</td>\n",
       "    </tr>\n",
       "  </tbody>\n",
       "</table>\n",
       "</div>"
      ],
      "text/plain": [
       "   SNo ObservationDate Province/State  Country/Region      Last Update  \\\n",
       "0    1      01/22/2020          Anhui  Mainland China  1/22/2020 17:00   \n",
       "1    2      01/22/2020        Beijing  Mainland China  1/22/2020 17:00   \n",
       "2    3      01/22/2020      Chongqing  Mainland China  1/22/2020 17:00   \n",
       "3    4      01/22/2020         Fujian  Mainland China  1/22/2020 17:00   \n",
       "4    5      01/22/2020          Gansu  Mainland China  1/22/2020 17:00   \n",
       "\n",
       "   Confirmed  Deaths  Recovered  \n",
       "0        1.0     0.0        0.0  \n",
       "1       14.0     0.0        0.0  \n",
       "2        6.0     0.0        0.0  \n",
       "3        1.0     0.0        0.0  \n",
       "4        0.0     0.0        0.0  "
      ]
     },
     "execution_count": 3,
     "metadata": {},
     "output_type": "execute_result"
    }
   ],
   "source": [
    "data = pd.read_csv('covid_19_data.csv')\n",
    "\n",
    "data.head()"
   ]
  },
  {
   "cell_type": "code",
   "execution_count": 4,
   "metadata": {},
   "outputs": [
    {
     "data": {
      "text/plain": [
       "SNo                236017\n",
       "ObservationDate       403\n",
       "Province/State        737\n",
       "Country/Region        227\n",
       "Last Update          2143\n",
       "Confirmed           78146\n",
       "Deaths              15099\n",
       "Recovered           53544\n",
       "dtype: int64"
      ]
     },
     "execution_count": 4,
     "metadata": {},
     "output_type": "execute_result"
    }
   ],
   "source": [
    "# Check duplicates\n",
    "duplicate = data[data.duplicated()] \n",
    "duplicate\n",
    "\n",
    "data.nunique()"
   ]
  },
  {
   "cell_type": "code",
   "execution_count": 9,
   "metadata": {},
   "outputs": [
    {
     "data": {
      "text/plain": [
       "236017"
      ]
     },
     "execution_count": 9,
     "metadata": {},
     "output_type": "execute_result"
    }
   ],
   "source": [
    "# Check how many rows\n",
    "data.shape[0]"
   ]
  },
  {
   "cell_type": "code",
   "execution_count": 5,
   "metadata": {},
   "outputs": [
    {
     "data": {
      "text/html": [
       "<div>\n",
       "<style scoped>\n",
       "    .dataframe tbody tr th:only-of-type {\n",
       "        vertical-align: middle;\n",
       "    }\n",
       "\n",
       "    .dataframe tbody tr th {\n",
       "        vertical-align: top;\n",
       "    }\n",
       "\n",
       "    .dataframe thead th {\n",
       "        text-align: right;\n",
       "    }\n",
       "</style>\n",
       "<table border=\"1\" class=\"dataframe\">\n",
       "  <thead>\n",
       "    <tr style=\"text-align: right;\">\n",
       "      <th></th>\n",
       "      <th>Count of Null Values</th>\n",
       "      <th>% of Null</th>\n",
       "    </tr>\n",
       "  </thead>\n",
       "  <tbody>\n",
       "    <tr>\n",
       "      <th>SNo</th>\n",
       "      <td>0</td>\n",
       "      <td>0.00</td>\n",
       "    </tr>\n",
       "    <tr>\n",
       "      <th>ObservationDate</th>\n",
       "      <td>0</td>\n",
       "      <td>0.00</td>\n",
       "    </tr>\n",
       "    <tr>\n",
       "      <th>Province/State</th>\n",
       "      <td>62045</td>\n",
       "      <td>0.26</td>\n",
       "    </tr>\n",
       "    <tr>\n",
       "      <th>Country/Region</th>\n",
       "      <td>0</td>\n",
       "      <td>0.00</td>\n",
       "    </tr>\n",
       "    <tr>\n",
       "      <th>Last Update</th>\n",
       "      <td>0</td>\n",
       "      <td>0.00</td>\n",
       "    </tr>\n",
       "    <tr>\n",
       "      <th>Confirmed</th>\n",
       "      <td>0</td>\n",
       "      <td>0.00</td>\n",
       "    </tr>\n",
       "    <tr>\n",
       "      <th>Deaths</th>\n",
       "      <td>0</td>\n",
       "      <td>0.00</td>\n",
       "    </tr>\n",
       "    <tr>\n",
       "      <th>Recovered</th>\n",
       "      <td>0</td>\n",
       "      <td>0.00</td>\n",
       "    </tr>\n",
       "  </tbody>\n",
       "</table>\n",
       "</div>"
      ],
      "text/plain": [
       "                 Count of Null Values  % of Null\n",
       "SNo                                 0       0.00\n",
       "ObservationDate                     0       0.00\n",
       "Province/State                  62045       0.26\n",
       "Country/Region                      0       0.00\n",
       "Last Update                         0       0.00\n",
       "Confirmed                           0       0.00\n",
       "Deaths                              0       0.00\n",
       "Recovered                           0       0.00"
      ]
     },
     "execution_count": 5,
     "metadata": {},
     "output_type": "execute_result"
    }
   ],
   "source": [
    "# Check null values\n",
    "null = pd.DataFrame(data.isnull().sum(),columns=['Count of Null Values'])\n",
    "null['% of Null'] = (null['Count of Null Values'] / data.shape[0]).round(2)\n",
    "null\n",
    "\n",
    "# since null values for Province / State is less than 50%, no need to drop it.\n",
    "# The column might still contain relevant data for the analysis."
   ]
  },
  {
   "cell_type": "code",
   "execution_count": 62,
   "metadata": {},
   "outputs": [],
   "source": [
    "# Drop irrelevant column; last update and SNo columns are not relevant for the analysis\n",
    "data= data.drop(['Last Update','SNo'], axis=1)"
   ]
  },
  {
   "cell_type": "code",
   "execution_count": 63,
   "metadata": {},
   "outputs": [
    {
     "data": {
      "text/plain": [
       "ObservationDate     object\n",
       "Province/State      object\n",
       "Country/Region      object\n",
       "Confirmed          float64\n",
       "Deaths             float64\n",
       "Recovered          float64\n",
       "dtype: object"
      ]
     },
     "execution_count": 63,
     "metadata": {},
     "output_type": "execute_result"
    }
   ],
   "source": [
    "# Check data type of columns\n",
    "data.dtypes"
   ]
  },
  {
   "cell_type": "code",
   "execution_count": 64,
   "metadata": {},
   "outputs": [],
   "source": [
    "# Convert observation date to date object\n",
    "data['ObservationDate'] = pd.to_datetime(data['ObservationDate'], format='%m/%d/%Y', utc=True);"
   ]
  },
  {
   "cell_type": "code",
   "execution_count": 6,
   "metadata": {},
   "outputs": [],
   "source": [
    "# Clean Strings (country/region and province/state)\n",
    "\n",
    "#Remove special characters\n",
    "spec_chars = [\"!\",'\"',\"#\",\"%\",\"&\",\"'\",\"(\",\")\",\n",
    "              \"*\",\"+\",\"-\",\".\",\"/\",\":\",\";\",\"<\",\n",
    "              \"=\",\">\",\"?\",\"@\",\"[\",\"\\\\\",\"]\",\"^\",\"_\",\n",
    "              \"`\",\"{\",\"|\",\"}\",\"~\",\"–\",\",\"]\n",
    "for char in spec_chars:\n",
    "    data['Country/Region'] = data['Country/Region'].str.replace(char,'',regex=True)\n",
    "    data['Province/State'] = data['Province/State'].str.replace(char,'',regex=True)\n",
    "\n",
    "# Trim leading and trailing white spaces\n",
    "data['Province/State'] =  data['Province/State'].str.lstrip()\n",
    "data['Province/State'] =  data['Province/State'].str.rstrip()\n",
    "\n",
    "data['Country/Region'] =  data['Country/Region'].str.lstrip()\n",
    "data['Country/Region'] =  data['Country/Region'].str.rstrip()"
   ]
  },
  {
   "cell_type": "code",
   "execution_count": 7,
   "metadata": {},
   "outputs": [],
   "source": [
    "# Cases (in millions / thousands)\n",
    "data['Confirmed (in thousands)'] = data['Confirmed'] / 1000\n",
    "data['Recovered (in thousands)'] = data['Recovered'] / 1000\n",
    "data['Deaths (in thousands)'] = data['Deaths'] / 1000"
   ]
  },
  {
   "cell_type": "code",
   "execution_count": 11,
   "metadata": {},
   "outputs": [
    {
     "data": {
      "text/plain": [
       "SNo                236017\n",
       "ObservationDate       403\n",
       "Province/State        737\n",
       "Country/Region        227\n",
       "Last Update          2143\n",
       "Confirmed           78146\n",
       "Deaths              15099\n",
       "Recovered           53544\n",
       "dtype: int64"
      ]
     },
     "execution_count": 11,
     "metadata": {},
     "output_type": "execute_result"
    }
   ],
   "source": [
    "data.nunique()"
   ]
  },
  {
   "cell_type": "markdown",
   "metadata": {},
   "source": [
    "### Data Analysis"
   ]
  },
  {
   "cell_type": "markdown",
   "metadata": {},
   "source": [
    "#### Worldwide Covid Cases"
   ]
  },
  {
   "cell_type": "code",
   "execution_count": 8,
   "metadata": {},
   "outputs": [
    {
     "data": {
      "image/png": "[encoded data removed]",
      "text/plain": [
       "<Figure size 432x288 with 1 Axes>"
      ]
     },
     "metadata": {},
     "output_type": "display_data"
    }
   ],
   "source": [
    "#summarize data\n",
    "groupdate=data.groupby([\"ObservationDate\"]).agg({\"Confirmed (in thousands)\":'sum',\"Recovered (in thousands)\":'sum',\"Deaths (in thousands)\":'sum'})\n",
    "\n",
    "fig = sns.lineplot(data=groupdate)\n",
    "fig1 = fig.set_ylabel(\"Number of Cases (in thousands)\")\n",
    "fig1 = fig.set_xlabel(\"Date\")\n",
    "fig1 = fig.set_ylim(ymin=0)\n",
    "fig1 = fig.set_title(\"Worldwide Covid Cases\",fontsize=15)"
   ]
  },
  {
   "cell_type": "markdown",
   "metadata": {},
   "source": [
    "### + lagay mo yung mga count of countries chuchu na ginawa mo"
   ]
  },
  {
   "cell_type": "code",
   "execution_count": 10,
   "metadata": {},
   "outputs": [
    {
     "data": {
      "text/plain": [
       "SNo                236017\n",
       "ObservationDate       403\n",
       "Province/State        737\n",
       "Country/Region        227\n",
       "Last Update          2143\n",
       "Confirmed           78146\n",
       "Deaths              15099\n",
       "Recovered           53544\n",
       "dtype: int64"
      ]
     },
     "execution_count": 10,
     "metadata": {},
     "output_type": "execute_result"
    }
   ],
   "source": [
    "data.nunique()"
   ]
  },
  {
   "cell_type": "code",
   "execution_count": null,
   "metadata": {},
   "outputs": [],
   "source": []
  },
  {
   "cell_type": "code",
   "execution_count": null,
   "metadata": {},
   "outputs": [],
   "source": []
  },
  {
   "cell_type": "markdown",
   "metadata": {},
   "source": [
    "### Visualization"
   ]
  },
  {
   "cell_type": "markdown",
   "metadata": {},
   "source": [
    "### Isang chart lang be need dito sa visualization part? If oo, lagay mo na lang yung ibang charts sa data analysis part. Tira mo na lang yung unang chart"
   ]
  },
  {
   "cell_type": "markdown",
   "metadata": {},
   "source": [
    "#### Countries with Highest Covid Cases"
   ]
  },
  {
   "cell_type": "code",
   "execution_count": 9,
   "metadata": {},
   "outputs": [],
   "source": [
    "# Get top countries with covid cases \n",
    "country= data.groupby(['Country/Region']).agg({\"Confirmed (in thousands)\":'sum',\"Recovered (in thousands)\":'sum',\"Deaths (in thousands)\":'sum'}).reset_index().sort_values(by=['Confirmed (in thousands)'],ascending=False)\n",
    "top_country = country.head(6)\n",
    "top_country_list = top_country['Country/Region'].to_list()\n",
    "\n",
    "top_country_data = data[data['Country/Region'].isin(top_country_list)].drop(columns=['Confirmed','Deaths','Recovered'])\n",
    "top_country_agg = top_country_data.groupby(['Country/Region','ObservationDate']).sum().reset_index().set_index('ObservationDate')"
   ]
  },
  {
   "cell_type": "code",
   "execution_count": 77,
   "metadata": {},
   "outputs": [
    {
     "data": {
      "text/html": [
       "<div>\n",
       "<style scoped>\n",
       "    .dataframe tbody tr th:only-of-type {\n",
       "        vertical-align: middle;\n",
       "    }\n",
       "\n",
       "    .dataframe tbody tr th {\n",
       "        vertical-align: top;\n",
       "    }\n",
       "\n",
       "    .dataframe thead th {\n",
       "        text-align: right;\n",
       "    }\n",
       "</style>\n",
       "<table border=\"1\" class=\"dataframe\">\n",
       "  <thead>\n",
       "    <tr style=\"text-align: right;\">\n",
       "      <th></th>\n",
       "      <th>Country/Region</th>\n",
       "      <th>Confirmed (in thousands)</th>\n",
       "      <th>Recovered (in thousands)</th>\n",
       "      <th>Deaths (in thousands)</th>\n",
       "    </tr>\n",
       "  </thead>\n",
       "  <tbody>\n",
       "    <tr>\n",
       "      <th>210</th>\n",
       "      <td>US</td>\n",
       "      <td>3201291.312</td>\n",
       "      <td>503370.956</td>\n",
       "      <td>72223.040</td>\n",
       "    </tr>\n",
       "    <tr>\n",
       "      <th>93</th>\n",
       "      <td>India</td>\n",
       "      <td>1705855.807</td>\n",
       "      <td>1553542.507</td>\n",
       "      <td>26087.127</td>\n",
       "    </tr>\n",
       "    <tr>\n",
       "      <th>25</th>\n",
       "      <td>Brazil</td>\n",
       "      <td>1417934.579</td>\n",
       "      <td>1223330.101</td>\n",
       "      <td>40013.970</td>\n",
       "    </tr>\n",
       "    <tr>\n",
       "      <th>168</th>\n",
       "      <td>Russia</td>\n",
       "      <td>511040.684</td>\n",
       "      <td>406002.541</td>\n",
       "      <td>9066.743</td>\n",
       "    </tr>\n",
       "    <tr>\n",
       "      <th>68</th>\n",
       "      <td>France</td>\n",
       "      <td>395738.242</td>\n",
       "      <td>39749.892</td>\n",
       "      <td>13676.000</td>\n",
       "    </tr>\n",
       "    <tr>\n",
       "      <th>209</th>\n",
       "      <td>UK</td>\n",
       "      <td>385499.227</td>\n",
       "      <td>1082.499</td>\n",
       "      <td>17619.785</td>\n",
       "    </tr>\n",
       "  </tbody>\n",
       "</table>\n",
       "</div>"
      ],
      "text/plain": [
       "    Country/Region  Confirmed (in thousands)  Recovered (in thousands)  \\\n",
       "210             US               3201291.312                503370.956   \n",
       "93           India               1705855.807               1553542.507   \n",
       "25          Brazil               1417934.579               1223330.101   \n",
       "168         Russia                511040.684                406002.541   \n",
       "68          France                395738.242                 39749.892   \n",
       "209             UK                385499.227                  1082.499   \n",
       "\n",
       "     Deaths (in thousands)  \n",
       "210              72223.040  \n",
       "93               26087.127  \n",
       "25               40013.970  \n",
       "168               9066.743  \n",
       "68               13676.000  \n",
       "209              17619.785  "
      ]
     },
     "execution_count": 77,
     "metadata": {},
     "output_type": "execute_result"
    }
   ],
   "source": [
    "top_country"
   ]
  },
  {
   "cell_type": "code",
   "execution_count": null,
   "metadata": {},
   "outputs": [],
   "source": [
    "fig, axes = plt.subplots(2, 3, figsize=(18, 10),constrained_layout=True)\n",
    "\n",
    "fig.suptitle('Countries with Highest Covid Cases (in thousands)',fontsize=20)\n",
    "p1 = sns.lineplot(ax=axes[0, 0], data=groupdate).set_title('Worldwide',fontsize=18)\n",
    "p2 = sns.lineplot(ax=axes[0, 1], data=top_country_agg[top_country_agg['Country/Region']=='US']).set_title('US',fontsize=18)\n",
    "p3 = sns.lineplot(ax=axes[0, 2], data=top_country_agg[top_country_agg['Country/Region']=='India']).set_title('India',fontsize=18)\n",
    "p4 = sns.lineplot(ax=axes[1, 0], data=top_country_agg[top_country_agg['Country/Region']=='Brazil']).set_title('Brazil',fontsize=18)\n",
    "p5 = sns.lineplot(ax=axes[1, 1], data=top_country_agg[top_country_agg['Country/Region']=='Russia']).set_title('Russia',fontsize=18)\n",
    "p6 = sns.lineplot(ax=axes[1, 2], data=top_country_agg[top_country_agg['Country/Region']=='France']).set_title('France',fontsize=18)\n",
    "\n",
    "plot = plt.setp(axes, xlabel='Date',ylabel='')"
   ]
  },
  {
   "cell_type": "markdown",
   "metadata": {},
   "source": [
    "#### Province / State Breakdown for Countries with Highest Covid Cases ####"
   ]
  },
  {
   "cell_type": "code",
   "execution_count": 79,
   "metadata": {},
   "outputs": [],
   "source": [
    "top_province_agg = top_country_data.groupby(['Country/Region','Province/State']).sum().reset_index()"
   ]
  },
  {
   "cell_type": "code",
   "execution_count": 2,
   "metadata": {},
   "outputs": [
    {
     "ename": "NameError",
     "evalue": "name 'plt' is not defined",
     "output_type": "error",
     "traceback": [
      "\u001b[1;31m---------------------------------------------------------------------------\u001b[0m",
      "\u001b[1;31mNameError\u001b[0m                                 Traceback (most recent call last)",
      "\u001b[1;32m<ipython-input-2-43720ac003e6>\u001b[0m in \u001b[0;36m<module>\u001b[1;34m\u001b[0m\n\u001b[1;32m----> 1\u001b[1;33m \u001b[0mfig\u001b[0m\u001b[1;33m,\u001b[0m \u001b[0maxes\u001b[0m \u001b[1;33m=\u001b[0m \u001b[0mplt\u001b[0m\u001b[1;33m.\u001b[0m\u001b[0msubplots\u001b[0m\u001b[1;33m(\u001b[0m\u001b[1;36m2\u001b[0m\u001b[1;33m,\u001b[0m \u001b[1;36m3\u001b[0m\u001b[1;33m,\u001b[0m \u001b[0mfigsize\u001b[0m\u001b[1;33m=\u001b[0m\u001b[1;33m(\u001b[0m\u001b[1;36m12\u001b[0m\u001b[1;33m,\u001b[0m \u001b[1;36m6\u001b[0m\u001b[1;33m)\u001b[0m\u001b[1;33m,\u001b[0m\u001b[0mconstrained_layout\u001b[0m\u001b[1;33m=\u001b[0m\u001b[1;32mTrue\u001b[0m\u001b[1;33m)\u001b[0m\u001b[1;33m\u001b[0m\u001b[1;33m\u001b[0m\u001b[0m\n\u001b[0m\u001b[0;32m      2\u001b[0m \u001b[1;33m\u001b[0m\u001b[0m\n\u001b[0;32m      3\u001b[0m \u001b[0mfig\u001b[0m\u001b[1;33m.\u001b[0m\u001b[0msuptitle\u001b[0m\u001b[1;33m(\u001b[0m\u001b[1;34m'Province/State with Highest Covid Cases (in thousands) per Country'\u001b[0m\u001b[1;33m,\u001b[0m\u001b[0mfontsize\u001b[0m\u001b[1;33m=\u001b[0m\u001b[1;36m18\u001b[0m\u001b[1;33m)\u001b[0m\u001b[1;33m\u001b[0m\u001b[1;33m\u001b[0m\u001b[0m\n\u001b[0;32m      4\u001b[0m \u001b[1;33m\u001b[0m\u001b[0m\n\u001b[0;32m      5\u001b[0m \u001b[0mp1\u001b[0m \u001b[1;33m=\u001b[0m \u001b[0msns\u001b[0m\u001b[1;33m.\u001b[0m\u001b[0mbarplot\u001b[0m\u001b[1;33m(\u001b[0m\u001b[0max\u001b[0m\u001b[1;33m=\u001b[0m\u001b[0maxes\u001b[0m\u001b[1;33m[\u001b[0m\u001b[1;36m0\u001b[0m\u001b[1;33m,\u001b[0m \u001b[1;36m0\u001b[0m\u001b[1;33m]\u001b[0m\u001b[1;33m,\u001b[0m\u001b[0mdata\u001b[0m\u001b[1;33m=\u001b[0m\u001b[0mtop_province_agg\u001b[0m\u001b[1;33m[\u001b[0m\u001b[0mtop_province_agg\u001b[0m\u001b[1;33m[\u001b[0m\u001b[1;34m'Country/Region'\u001b[0m\u001b[1;33m]\u001b[0m\u001b[1;33m==\u001b[0m\u001b[1;34m'US'\u001b[0m\u001b[1;33m]\u001b[0m\u001b[1;33m.\u001b[0m\u001b[0msort_values\u001b[0m\u001b[1;33m(\u001b[0m\u001b[0mby\u001b[0m\u001b[1;33m=\u001b[0m\u001b[1;34m'Confirmed (in thousands)'\u001b[0m\u001b[1;33m,\u001b[0m\u001b[0mascending\u001b[0m\u001b[1;33m=\u001b[0m\u001b[1;32mFalse\u001b[0m\u001b[1;33m)\u001b[0m\u001b[1;33m.\u001b[0m\u001b[0mhead\u001b[0m\u001b[1;33m(\u001b[0m\u001b[1;36m3\u001b[0m\u001b[1;33m)\u001b[0m\u001b[1;33m,\u001b[0m\u001b[0my\u001b[0m\u001b[1;33m=\u001b[0m\u001b[1;34m'Confirmed (in thousands)'\u001b[0m\u001b[1;33m,\u001b[0m\u001b[0mx\u001b[0m\u001b[1;33m=\u001b[0m\u001b[1;34m'Province/State'\u001b[0m\u001b[1;33m)\u001b[0m\u001b[1;33m.\u001b[0m\u001b[0mset_title\u001b[0m\u001b[1;33m(\u001b[0m\u001b[1;34m'US'\u001b[0m\u001b[1;33m,\u001b[0m\u001b[0mfontsize\u001b[0m\u001b[1;33m=\u001b[0m\u001b[1;36m14\u001b[0m\u001b[1;33m)\u001b[0m\u001b[1;33m\u001b[0m\u001b[1;33m\u001b[0m\u001b[0m\n",
      "\u001b[1;31mNameError\u001b[0m: name 'plt' is not defined"
     ]
    }
   ],
   "source": [
    "fig, axes = plt.subplots(2, 3, figsize=(12, 6),constrained_layout=True)\n",
    "\n",
    "fig.suptitle('Province/State with Highest Covid Cases (in thousands) per Country',fontsize=18)\n",
    "\n",
    "p1 = sns.barplot(ax=axes[0, 0],data=top_province_agg[top_province_agg['Country/Region']=='US'].sort_values(by='Confirmed (in thousands)',ascending=False).head(3),y='Confirmed (in thousands)',x='Province/State').set_title('US',fontsize=14)\n",
    "p2 = sns.barplot(ax=axes[0, 1],data=top_province_agg[top_province_agg['Country/Region']=='India'].sort_values(by='Confirmed (in thousands)',ascending=False).head(3),y='Confirmed (in thousands)',x='Province/State').set_title('India',fontsize=14)\n",
    "p3 = sns.barplot(ax=axes[0, 2],data=top_province_agg[top_province_agg['Country/Region']=='Brazil'].sort_values(by='Confirmed (in thousands)',ascending=False).head(3),y='Confirmed (in thousands)',x='Province/State').set_title('Brazil',fontsize=14)\n",
    "p4 = sns.barplot(ax=axes[1, 0],data=top_province_agg[top_province_agg['Country/Region']=='Russia'].sort_values(by='Confirmed (in thousands)',ascending=False).head(3),y='Confirmed (in thousands)',x='Province/State').set_title('Russia',fontsize=14)\n",
    "p5 = sns.barplot(ax=axes[1, 1],data=top_province_agg[top_province_agg['Country/Region']=='France'].sort_values(by='Confirmed (in thousands)',ascending=False).head(3),y='Confirmed (in thousands)',x='Province/State').set_title('France',fontsize=14)\n",
    "plot = plt.setp(axes, xlabel='',ylabel='')"
   ]
  },
  {
   "cell_type": "markdown",
   "metadata": {},
   "source": [
    "#### Countries with Highest Recovery Rate"
   ]
  },
  {
   "cell_type": "code",
   "execution_count": 81,
   "metadata": {},
   "outputs": [],
   "source": [
    "country_agg = data.groupby('Country/Region').sum().reset_index()\n",
    "country_agg['Recovery Rate'] = (country_agg['Recovered']/country_agg['Confirmed'])*100\n",
    "country_agg['Death Rate'] = (country_agg['Deaths']/country_agg['Confirmed'])*100\n",
    "\n",
    "country_agg_recovery = country_agg.sort_values(by='Recovery Rate',ascending=False).head(15)[['Country/Region','Recovery Rate']]\n",
    "country_agg_death = country_agg.sort_values(by='Death Rate',ascending=False).head(15)[['Country/Region','Death Rate']]"
   ]
  },
  {
   "cell_type": "code",
   "execution_count": 82,
   "metadata": {},
   "outputs": [
    {
     "data": {
      "image/png": "[encoded data removed]",
      "text/plain": [
       "<Figure size 864x432 with 2 Axes>"
      ]
     },
     "metadata": {},
     "output_type": "display_data"
    }
   ],
   "source": [
    "fig, axes = plt.subplots(1, 2, figsize=(12, 6),constrained_layout=True)\n",
    "\n",
    "bar1 = sns.barplot(ax=axes[0] ,data=country_agg_recovery, x=\"Recovery Rate\", y=\"Country/Region\").set_title(\"Top Countries with Highest Recovery Rate\",fontsize=16)\n",
    "bar2 = sns.barplot(ax=axes[1], data=country_agg_death, x=\"Death Rate\", y=\"Country/Region\").set_title(\"Top Countries with Highest Death Rate\",fontsize=16)\n",
    "plot = plt.setp(axes[0], xlabel='Recovery Rate (%)',ylabel='')\n",
    "plot = plt.setp(axes[1], xlabel='Death Rate (%)',ylabel='')"
   ]
  },
  {
   "cell_type": "code",
   "execution_count": null,
   "metadata": {},
   "outputs": [],
   "source": []
  }
 ],
 "metadata": {
  "kernelspec": {
   "display_name": "Python 3",
   "language": "python",
   "name": "python3"
  },
  "language_info": {
   "codemirror_mode": {
    "name": "ipython",
    "version": 3
   },
   "file_extension": ".py",
   "mimetype": "text/x-python",
   "name": "python",
   "nbconvert_exporter": "python",
   "pygments_lexer": "ipython3",
   "version": "3.8.5"
  }
 },
 "nbformat": 4,
 "nbformat_minor": 5
}
